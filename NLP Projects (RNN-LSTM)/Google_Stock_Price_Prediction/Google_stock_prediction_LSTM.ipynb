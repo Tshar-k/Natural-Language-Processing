{
  "nbformat": 4,
  "nbformat_minor": 0,
  "metadata": {
    "colab": {
      "provenance": []
    },
    "kernelspec": {
      "name": "python3",
      "display_name": "Python 3"
    },
    "language_info": {
      "name": "python"
    }
  },
  "cells": [
    {
      "cell_type": "markdown",
      "source": [
        "# GOOGLE Stock Price Prediction using LSTM"
      ],
      "metadata": {
        "id": "IaXpXlQC5zsl"
      }
    },
    {
      "cell_type": "code",
      "execution_count": 1,
      "metadata": {
        "id": "7y9ZJSZUzsBx"
      },
      "outputs": [],
      "source": [
        "# import required libraries\n",
        "import numpy as np\n",
        "import pandas as pd\n",
        "import matplotlib.pyplot as plt\n",
        "import tensorflow as tf\n",
        "from keras.layers import Dense,LSTM,Dropout"
      ]
    },
    {
      "cell_type": "code",
      "source": [
        "df = pd.read_csv(\"/content/GoogleStock Price.csv\")"
      ],
      "metadata": {
        "id": "IeWjK-Wlz-L7"
      },
      "execution_count": 2,
      "outputs": []
    },
    {
      "cell_type": "code",
      "source": [
        "df.head()"
      ],
      "metadata": {
        "colab": {
          "base_uri": "https://localhost:8080/",
          "height": 206
        },
        "id": "T_04MGJt0Dsz",
        "outputId": "18968ffb-5543-4693-8464-62012bbf35e9"
      },
      "execution_count": 9,
      "outputs": [
        {
          "output_type": "execute_result",
          "data": {
            "text/plain": [
              "         Date       Open       High        Low      Close  Adj Close     Volume\n",
              "0  2013-01-02  18.003504  18.193193  17.931683  18.099348  18.099348  101550348\n",
              "1  2013-01-03  18.141392  18.316566  18.036036  18.109859  18.109859   92635272\n",
              "2  2013-01-04  18.251753  18.555305  18.210211  18.467718  18.467718  110429460\n",
              "3  2013-01-07  18.404655  18.503002  18.282784  18.387136  18.387136   66161772\n",
              "4  2013-01-08  18.406906  18.425926  18.128880  18.350851  18.350851   66976956"
            ],
            "text/html": [
              "\n",
              "  <div id=\"df-87feda22-1256-4ae6-a1c6-8b003dccc9a4\" class=\"colab-df-container\">\n",
              "    <div>\n",
              "<style scoped>\n",
              "    .dataframe tbody tr th:only-of-type {\n",
              "        vertical-align: middle;\n",
              "    }\n",
              "\n",
              "    .dataframe tbody tr th {\n",
              "        vertical-align: top;\n",
              "    }\n",
              "\n",
              "    .dataframe thead th {\n",
              "        text-align: right;\n",
              "    }\n",
              "</style>\n",
              "<table border=\"1\" class=\"dataframe\">\n",
              "  <thead>\n",
              "    <tr style=\"text-align: right;\">\n",
              "      <th></th>\n",
              "      <th>Date</th>\n",
              "      <th>Open</th>\n",
              "      <th>High</th>\n",
              "      <th>Low</th>\n",
              "      <th>Close</th>\n",
              "      <th>Adj Close</th>\n",
              "      <th>Volume</th>\n",
              "    </tr>\n",
              "  </thead>\n",
              "  <tbody>\n",
              "    <tr>\n",
              "      <th>0</th>\n",
              "      <td>2013-01-02</td>\n",
              "      <td>18.003504</td>\n",
              "      <td>18.193193</td>\n",
              "      <td>17.931683</td>\n",
              "      <td>18.099348</td>\n",
              "      <td>18.099348</td>\n",
              "      <td>101550348</td>\n",
              "    </tr>\n",
              "    <tr>\n",
              "      <th>1</th>\n",
              "      <td>2013-01-03</td>\n",
              "      <td>18.141392</td>\n",
              "      <td>18.316566</td>\n",
              "      <td>18.036036</td>\n",
              "      <td>18.109859</td>\n",
              "      <td>18.109859</td>\n",
              "      <td>92635272</td>\n",
              "    </tr>\n",
              "    <tr>\n",
              "      <th>2</th>\n",
              "      <td>2013-01-04</td>\n",
              "      <td>18.251753</td>\n",
              "      <td>18.555305</td>\n",
              "      <td>18.210211</td>\n",
              "      <td>18.467718</td>\n",
              "      <td>18.467718</td>\n",
              "      <td>110429460</td>\n",
              "    </tr>\n",
              "    <tr>\n",
              "      <th>3</th>\n",
              "      <td>2013-01-07</td>\n",
              "      <td>18.404655</td>\n",
              "      <td>18.503002</td>\n",
              "      <td>18.282784</td>\n",
              "      <td>18.387136</td>\n",
              "      <td>18.387136</td>\n",
              "      <td>66161772</td>\n",
              "    </tr>\n",
              "    <tr>\n",
              "      <th>4</th>\n",
              "      <td>2013-01-08</td>\n",
              "      <td>18.406906</td>\n",
              "      <td>18.425926</td>\n",
              "      <td>18.128880</td>\n",
              "      <td>18.350851</td>\n",
              "      <td>18.350851</td>\n",
              "      <td>66976956</td>\n",
              "    </tr>\n",
              "  </tbody>\n",
              "</table>\n",
              "</div>\n",
              "    <div class=\"colab-df-buttons\">\n",
              "\n",
              "  <div class=\"colab-df-container\">\n",
              "    <button class=\"colab-df-convert\" onclick=\"convertToInteractive('df-87feda22-1256-4ae6-a1c6-8b003dccc9a4')\"\n",
              "            title=\"Convert this dataframe to an interactive table.\"\n",
              "            style=\"display:none;\">\n",
              "\n",
              "  <svg xmlns=\"http://www.w3.org/2000/svg\" height=\"24px\" viewBox=\"0 -960 960 960\">\n",
              "    <path d=\"M120-120v-720h720v720H120Zm60-500h600v-160H180v160Zm220 220h160v-160H400v160Zm0 220h160v-160H400v160ZM180-400h160v-160H180v160Zm440 0h160v-160H620v160ZM180-180h160v-160H180v160Zm440 0h160v-160H620v160Z\"/>\n",
              "  </svg>\n",
              "    </button>\n",
              "\n",
              "  <style>\n",
              "    .colab-df-container {\n",
              "      display:flex;\n",
              "      gap: 12px;\n",
              "    }\n",
              "\n",
              "    .colab-df-convert {\n",
              "      background-color: #E8F0FE;\n",
              "      border: none;\n",
              "      border-radius: 50%;\n",
              "      cursor: pointer;\n",
              "      display: none;\n",
              "      fill: #1967D2;\n",
              "      height: 32px;\n",
              "      padding: 0 0 0 0;\n",
              "      width: 32px;\n",
              "    }\n",
              "\n",
              "    .colab-df-convert:hover {\n",
              "      background-color: #E2EBFA;\n",
              "      box-shadow: 0px 1px 2px rgba(60, 64, 67, 0.3), 0px 1px 3px 1px rgba(60, 64, 67, 0.15);\n",
              "      fill: #174EA6;\n",
              "    }\n",
              "\n",
              "    .colab-df-buttons div {\n",
              "      margin-bottom: 4px;\n",
              "    }\n",
              "\n",
              "    [theme=dark] .colab-df-convert {\n",
              "      background-color: #3B4455;\n",
              "      fill: #D2E3FC;\n",
              "    }\n",
              "\n",
              "    [theme=dark] .colab-df-convert:hover {\n",
              "      background-color: #434B5C;\n",
              "      box-shadow: 0px 1px 3px 1px rgba(0, 0, 0, 0.15);\n",
              "      filter: drop-shadow(0px 1px 2px rgba(0, 0, 0, 0.3));\n",
              "      fill: #FFFFFF;\n",
              "    }\n",
              "  </style>\n",
              "\n",
              "    <script>\n",
              "      const buttonEl =\n",
              "        document.querySelector('#df-87feda22-1256-4ae6-a1c6-8b003dccc9a4 button.colab-df-convert');\n",
              "      buttonEl.style.display =\n",
              "        google.colab.kernel.accessAllowed ? 'block' : 'none';\n",
              "\n",
              "      async function convertToInteractive(key) {\n",
              "        const element = document.querySelector('#df-87feda22-1256-4ae6-a1c6-8b003dccc9a4');\n",
              "        const dataTable =\n",
              "          await google.colab.kernel.invokeFunction('convertToInteractive',\n",
              "                                                    [key], {});\n",
              "        if (!dataTable) return;\n",
              "\n",
              "        const docLinkHtml = 'Like what you see? Visit the ' +\n",
              "          '<a target=\"_blank\" href=https://colab.research.google.com/notebooks/data_table.ipynb>data table notebook</a>'\n",
              "          + ' to learn more about interactive tables.';\n",
              "        element.innerHTML = '';\n",
              "        dataTable['output_type'] = 'display_data';\n",
              "        await google.colab.output.renderOutput(dataTable, element);\n",
              "        const docLink = document.createElement('div');\n",
              "        docLink.innerHTML = docLinkHtml;\n",
              "        element.appendChild(docLink);\n",
              "      }\n",
              "    </script>\n",
              "  </div>\n",
              "\n",
              "\n",
              "<div id=\"df-beb0226a-42c7-4ed0-81b8-38a8b5dac687\">\n",
              "  <button class=\"colab-df-quickchart\" onclick=\"quickchart('df-beb0226a-42c7-4ed0-81b8-38a8b5dac687')\"\n",
              "            title=\"Suggest charts\"\n",
              "            style=\"display:none;\">\n",
              "\n",
              "<svg xmlns=\"http://www.w3.org/2000/svg\" height=\"24px\"viewBox=\"0 0 24 24\"\n",
              "     width=\"24px\">\n",
              "    <g>\n",
              "        <path d=\"M19 3H5c-1.1 0-2 .9-2 2v14c0 1.1.9 2 2 2h14c1.1 0 2-.9 2-2V5c0-1.1-.9-2-2-2zM9 17H7v-7h2v7zm4 0h-2V7h2v10zm4 0h-2v-4h2v4z\"/>\n",
              "    </g>\n",
              "</svg>\n",
              "  </button>\n",
              "\n",
              "<style>\n",
              "  .colab-df-quickchart {\n",
              "      --bg-color: #E8F0FE;\n",
              "      --fill-color: #1967D2;\n",
              "      --hover-bg-color: #E2EBFA;\n",
              "      --hover-fill-color: #174EA6;\n",
              "      --disabled-fill-color: #AAA;\n",
              "      --disabled-bg-color: #DDD;\n",
              "  }\n",
              "\n",
              "  [theme=dark] .colab-df-quickchart {\n",
              "      --bg-color: #3B4455;\n",
              "      --fill-color: #D2E3FC;\n",
              "      --hover-bg-color: #434B5C;\n",
              "      --hover-fill-color: #FFFFFF;\n",
              "      --disabled-bg-color: #3B4455;\n",
              "      --disabled-fill-color: #666;\n",
              "  }\n",
              "\n",
              "  .colab-df-quickchart {\n",
              "    background-color: var(--bg-color);\n",
              "    border: none;\n",
              "    border-radius: 50%;\n",
              "    cursor: pointer;\n",
              "    display: none;\n",
              "    fill: var(--fill-color);\n",
              "    height: 32px;\n",
              "    padding: 0;\n",
              "    width: 32px;\n",
              "  }\n",
              "\n",
              "  .colab-df-quickchart:hover {\n",
              "    background-color: var(--hover-bg-color);\n",
              "    box-shadow: 0 1px 2px rgba(60, 64, 67, 0.3), 0 1px 3px 1px rgba(60, 64, 67, 0.15);\n",
              "    fill: var(--button-hover-fill-color);\n",
              "  }\n",
              "\n",
              "  .colab-df-quickchart-complete:disabled,\n",
              "  .colab-df-quickchart-complete:disabled:hover {\n",
              "    background-color: var(--disabled-bg-color);\n",
              "    fill: var(--disabled-fill-color);\n",
              "    box-shadow: none;\n",
              "  }\n",
              "\n",
              "  .colab-df-spinner {\n",
              "    border: 2px solid var(--fill-color);\n",
              "    border-color: transparent;\n",
              "    border-bottom-color: var(--fill-color);\n",
              "    animation:\n",
              "      spin 1s steps(1) infinite;\n",
              "  }\n",
              "\n",
              "  @keyframes spin {\n",
              "    0% {\n",
              "      border-color: transparent;\n",
              "      border-bottom-color: var(--fill-color);\n",
              "      border-left-color: var(--fill-color);\n",
              "    }\n",
              "    20% {\n",
              "      border-color: transparent;\n",
              "      border-left-color: var(--fill-color);\n",
              "      border-top-color: var(--fill-color);\n",
              "    }\n",
              "    30% {\n",
              "      border-color: transparent;\n",
              "      border-left-color: var(--fill-color);\n",
              "      border-top-color: var(--fill-color);\n",
              "      border-right-color: var(--fill-color);\n",
              "    }\n",
              "    40% {\n",
              "      border-color: transparent;\n",
              "      border-right-color: var(--fill-color);\n",
              "      border-top-color: var(--fill-color);\n",
              "    }\n",
              "    60% {\n",
              "      border-color: transparent;\n",
              "      border-right-color: var(--fill-color);\n",
              "    }\n",
              "    80% {\n",
              "      border-color: transparent;\n",
              "      border-right-color: var(--fill-color);\n",
              "      border-bottom-color: var(--fill-color);\n",
              "    }\n",
              "    90% {\n",
              "      border-color: transparent;\n",
              "      border-bottom-color: var(--fill-color);\n",
              "    }\n",
              "  }\n",
              "</style>\n",
              "\n",
              "  <script>\n",
              "    async function quickchart(key) {\n",
              "      const quickchartButtonEl =\n",
              "        document.querySelector('#' + key + ' button');\n",
              "      quickchartButtonEl.disabled = true;  // To prevent multiple clicks.\n",
              "      quickchartButtonEl.classList.add('colab-df-spinner');\n",
              "      try {\n",
              "        const charts = await google.colab.kernel.invokeFunction(\n",
              "            'suggestCharts', [key], {});\n",
              "      } catch (error) {\n",
              "        console.error('Error during call to suggestCharts:', error);\n",
              "      }\n",
              "      quickchartButtonEl.classList.remove('colab-df-spinner');\n",
              "      quickchartButtonEl.classList.add('colab-df-quickchart-complete');\n",
              "    }\n",
              "    (() => {\n",
              "      let quickchartButtonEl =\n",
              "        document.querySelector('#df-beb0226a-42c7-4ed0-81b8-38a8b5dac687 button');\n",
              "      quickchartButtonEl.style.display =\n",
              "        google.colab.kernel.accessAllowed ? 'block' : 'none';\n",
              "    })();\n",
              "  </script>\n",
              "</div>\n",
              "\n",
              "    </div>\n",
              "  </div>\n"
            ]
          },
          "metadata": {},
          "execution_count": 9
        }
      ]
    },
    {
      "cell_type": "markdown",
      "source": [
        "## Data Preprocessing"
      ],
      "metadata": {
        "id": "zwyOvP2P6AcK"
      }
    },
    {
      "cell_type": "code",
      "source": [
        "df.isnull().sum()"
      ],
      "metadata": {
        "colab": {
          "base_uri": "https://localhost:8080/"
        },
        "id": "XjbChEmp0Ej-",
        "outputId": "f7a45c1d-a17d-4d28-a144-d71ff750d253"
      },
      "execution_count": 4,
      "outputs": [
        {
          "output_type": "execute_result",
          "data": {
            "text/plain": [
              "Date         0\n",
              "Open         0\n",
              "High         0\n",
              "Low          0\n",
              "Close        0\n",
              "Adj Close    0\n",
              "Volume       0\n",
              "dtype: int64"
            ]
          },
          "metadata": {},
          "execution_count": 4
        }
      ]
    },
    {
      "cell_type": "code",
      "source": [
        "df = df.drop_duplicates()"
      ],
      "metadata": {
        "id": "glIjisay0G0z"
      },
      "execution_count": 5,
      "outputs": []
    },
    {
      "cell_type": "code",
      "source": [
        "df.shape"
      ],
      "metadata": {
        "colab": {
          "base_uri": "https://localhost:8080/"
        },
        "id": "WA3apxKc0b8-",
        "outputId": "d3a5bd60-2d83-4a91-d754-450c35bfb659"
      },
      "execution_count": 7,
      "outputs": [
        {
          "output_type": "execute_result",
          "data": {
            "text/plain": [
              "(2645, 7)"
            ]
          },
          "metadata": {},
          "execution_count": 7
        }
      ]
    },
    {
      "cell_type": "code",
      "source": [
        "df['Date'] = pd.to_datetime(df['Date'],infer_datetime_format=True)"
      ],
      "metadata": {
        "id": "SSG43uUK0eaj"
      },
      "execution_count": 12,
      "outputs": []
    },
    {
      "cell_type": "code",
      "source": [
        "df.info()"
      ],
      "metadata": {
        "colab": {
          "base_uri": "https://localhost:8080/"
        },
        "id": "EpiCukzh0sQ9",
        "outputId": "1734f4ac-72ea-4b3a-808d-db743cd8a2fa"
      },
      "execution_count": 13,
      "outputs": [
        {
          "output_type": "stream",
          "name": "stdout",
          "text": [
            "<class 'pandas.core.frame.DataFrame'>\n",
            "Int64Index: 2645 entries, 0 to 2644\n",
            "Data columns (total 7 columns):\n",
            " #   Column     Non-Null Count  Dtype         \n",
            "---  ------     --------------  -----         \n",
            " 0   Date       2645 non-null   datetime64[ns]\n",
            " 1   Open       2645 non-null   float64       \n",
            " 2   High       2645 non-null   float64       \n",
            " 3   Low        2645 non-null   float64       \n",
            " 4   Close      2645 non-null   float64       \n",
            " 5   Adj Close  2645 non-null   float64       \n",
            " 6   Volume     2645 non-null   int64         \n",
            "dtypes: datetime64[ns](1), float64(5), int64(1)\n",
            "memory usage: 165.3 KB\n"
          ]
        }
      ]
    },
    {
      "cell_type": "code",
      "source": [
        "df.set_index('Date')[['Open','High','Low','Close',\"Adj Close\"]].plot(subplots = True)"
      ],
      "metadata": {
        "colab": {
          "base_uri": "https://localhost:8080/",
          "height": 476
        },
        "id": "bjr1WQi_0yiw",
        "outputId": "d79481aa-6586-4cf7-d0c0-12349cefc404"
      },
      "execution_count": 14,
      "outputs": [
        {
          "output_type": "execute_result",
          "data": {
            "text/plain": [
              "array([<Axes: xlabel='Date'>, <Axes: xlabel='Date'>,\n",
              "       <Axes: xlabel='Date'>, <Axes: xlabel='Date'>,\n",
              "       <Axes: xlabel='Date'>], dtype=object)"
            ]
          },
          "metadata": {},
          "execution_count": 14
        },
        {
          "output_type": "display_data",
          "data": {
            "text/plain": [
              "<Figure size 640x480 with 5 Axes>"
            ],
            "image/png": "[encoded data removed]"
          },
          "metadata": {}
        }
      ]
    },
    {
      "cell_type": "markdown",
      "source": [
        "## Taking features for prediction"
      ],
      "metadata": {
        "id": "4jmb_HXK6FdJ"
      }
    },
    {
      "cell_type": "code",
      "source": [
        "df_input = df.drop([\"Volume\",'Date'],axis = 1)"
      ],
      "metadata": {
        "id": "sNDBX1uO1ARN"
      },
      "execution_count": 26,
      "outputs": []
    },
    {
      "cell_type": "code",
      "source": [
        "df_input.head()"
      ],
      "metadata": {
        "colab": {
          "base_uri": "https://localhost:8080/",
          "height": 206
        },
        "id": "PyL-h4B21K2W",
        "outputId": "f045d94e-b64b-43aa-d016-4c9bfd34d330"
      },
      "execution_count": 27,
      "outputs": [
        {
          "output_type": "execute_result",
          "data": {
            "text/plain": [
              "        Open       High        Low      Close  Adj Close\n",
              "0  18.003504  18.193193  17.931683  18.099348  18.099348\n",
              "1  18.141392  18.316566  18.036036  18.109859  18.109859\n",
              "2  18.251753  18.555305  18.210211  18.467718  18.467718\n",
              "3  18.404655  18.503002  18.282784  18.387136  18.387136\n",
              "4  18.406906  18.425926  18.128880  18.350851  18.350851"
            ],
            "text/html": [
              "\n",
              "  <div id=\"df-6a27fcbd-176a-4be0-a173-dd4013ab412a\" class=\"colab-df-container\">\n",
              "    <div>\n",
              "<style scoped>\n",
              "    .dataframe tbody tr th:only-of-type {\n",
              "        vertical-align: middle;\n",
              "    }\n",
              "\n",
              "    .dataframe tbody tr th {\n",
              "        vertical-align: top;\n",
              "    }\n",
              "\n",
              "    .dataframe thead th {\n",
              "        text-align: right;\n",
              "    }\n",
              "</style>\n",
              "<table border=\"1\" class=\"dataframe\">\n",
              "  <thead>\n",
              "    <tr style=\"text-align: right;\">\n",
              "      <th></th>\n",
              "      <th>Open</th>\n",
              "      <th>High</th>\n",
              "      <th>Low</th>\n",
              "      <th>Close</th>\n",
              "      <th>Adj Close</th>\n",
              "    </tr>\n",
              "  </thead>\n",
              "  <tbody>\n",
              "    <tr>\n",
              "      <th>0</th>\n",
              "      <td>18.003504</td>\n",
              "      <td>18.193193</td>\n",
              "      <td>17.931683</td>\n",
              "      <td>18.099348</td>\n",
              "      <td>18.099348</td>\n",
              "    </tr>\n",
              "    <tr>\n",
              "      <th>1</th>\n",
              "      <td>18.141392</td>\n",
              "      <td>18.316566</td>\n",
              "      <td>18.036036</td>\n",
              "      <td>18.109859</td>\n",
              "      <td>18.109859</td>\n",
              "    </tr>\n",
              "    <tr>\n",
              "      <th>2</th>\n",
              "      <td>18.251753</td>\n",
              "      <td>18.555305</td>\n",
              "      <td>18.210211</td>\n",
              "      <td>18.467718</td>\n",
              "      <td>18.467718</td>\n",
              "    </tr>\n",
              "    <tr>\n",
              "      <th>3</th>\n",
              "      <td>18.404655</td>\n",
              "      <td>18.503002</td>\n",
              "      <td>18.282784</td>\n",
              "      <td>18.387136</td>\n",
              "      <td>18.387136</td>\n",
              "    </tr>\n",
              "    <tr>\n",
              "      <th>4</th>\n",
              "      <td>18.406906</td>\n",
              "      <td>18.425926</td>\n",
              "      <td>18.128880</td>\n",
              "      <td>18.350851</td>\n",
              "      <td>18.350851</td>\n",
              "    </tr>\n",
              "  </tbody>\n",
              "</table>\n",
              "</div>\n",
              "    <div class=\"colab-df-buttons\">\n",
              "\n",
              "  <div class=\"colab-df-container\">\n",
              "    <button class=\"colab-df-convert\" onclick=\"convertToInteractive('df-6a27fcbd-176a-4be0-a173-dd4013ab412a')\"\n",
              "            title=\"Convert this dataframe to an interactive table.\"\n",
              "            style=\"display:none;\">\n",
              "\n",
              "  <svg xmlns=\"http://www.w3.org/2000/svg\" height=\"24px\" viewBox=\"0 -960 960 960\">\n",
              "    <path d=\"M120-120v-720h720v720H120Zm60-500h600v-160H180v160Zm220 220h160v-160H400v160Zm0 220h160v-160H400v160ZM180-400h160v-160H180v160Zm440 0h160v-160H620v160ZM180-180h160v-160H180v160Zm440 0h160v-160H620v160Z\"/>\n",
              "  </svg>\n",
              "    </button>\n",
              "\n",
              "  <style>\n",
              "    .colab-df-container {\n",
              "      display:flex;\n",
              "      gap: 12px;\n",
              "    }\n",
              "\n",
              "    .colab-df-convert {\n",
              "      background-color: #E8F0FE;\n",
              "      border: none;\n",
              "      border-radius: 50%;\n",
              "      cursor: pointer;\n",
              "      display: none;\n",
              "      fill: #1967D2;\n",
              "      height: 32px;\n",
              "      padding: 0 0 0 0;\n",
              "      width: 32px;\n",
              "    }\n",
              "\n",
              "    .colab-df-convert:hover {\n",
              "      background-color: #E2EBFA;\n",
              "      box-shadow: 0px 1px 2px rgba(60, 64, 67, 0.3), 0px 1px 3px 1px rgba(60, 64, 67, 0.15);\n",
              "      fill: #174EA6;\n",
              "    }\n",
              "\n",
              "    .colab-df-buttons div {\n",
              "      margin-bottom: 4px;\n",
              "    }\n",
              "\n",
              "    [theme=dark] .colab-df-convert {\n",
              "      background-color: #3B4455;\n",
              "      fill: #D2E3FC;\n",
              "    }\n",
              "\n",
              "    [theme=dark] .colab-df-convert:hover {\n",
              "      background-color: #434B5C;\n",
              "      box-shadow: 0px 1px 3px 1px rgba(0, 0, 0, 0.15);\n",
              "      filter: drop-shadow(0px 1px 2px rgba(0, 0, 0, 0.3));\n",
              "      fill: #FFFFFF;\n",
              "    }\n",
              "  </style>\n",
              "\n",
              "    <script>\n",
              "      const buttonEl =\n",
              "        document.querySelector('#df-6a27fcbd-176a-4be0-a173-dd4013ab412a button.colab-df-convert');\n",
              "      buttonEl.style.display =\n",
              "        google.colab.kernel.accessAllowed ? 'block' : 'none';\n",
              "\n",
              "      async function convertToInteractive(key) {\n",
              "        const element = document.querySelector('#df-6a27fcbd-176a-4be0-a173-dd4013ab412a');\n",
              "        const dataTable =\n",
              "          await google.colab.kernel.invokeFunction('convertToInteractive',\n",
              "                                                    [key], {});\n",
              "        if (!dataTable) return;\n",
              "\n",
              "        const docLinkHtml = 'Like what you see? Visit the ' +\n",
              "          '<a target=\"_blank\" href=https://colab.research.google.com/notebooks/data_table.ipynb>data table notebook</a>'\n",
              "          + ' to learn more about interactive tables.';\n",
              "        element.innerHTML = '';\n",
              "        dataTable['output_type'] = 'display_data';\n",
              "        await google.colab.output.renderOutput(dataTable, element);\n",
              "        const docLink = document.createElement('div');\n",
              "        docLink.innerHTML = docLinkHtml;\n",
              "        element.appendChild(docLink);\n",
              "      }\n",
              "    </script>\n",
              "  </div>\n",
              "\n",
              "\n",
              "<div id=\"df-aaf52e94-ed15-4f1b-9fd7-a5324242e12d\">\n",
              "  <button class=\"colab-df-quickchart\" onclick=\"quickchart('df-aaf52e94-ed15-4f1b-9fd7-a5324242e12d')\"\n",
              "            title=\"Suggest charts\"\n",
              "            style=\"display:none;\">\n",
              "\n",
              "<svg xmlns=\"http://www.w3.org/2000/svg\" height=\"24px\"viewBox=\"0 0 24 24\"\n",
              "     width=\"24px\">\n",
              "    <g>\n",
              "        <path d=\"M19 3H5c-1.1 0-2 .9-2 2v14c0 1.1.9 2 2 2h14c1.1 0 2-.9 2-2V5c0-1.1-.9-2-2-2zM9 17H7v-7h2v7zm4 0h-2V7h2v10zm4 0h-2v-4h2v4z\"/>\n",
              "    </g>\n",
              "</svg>\n",
              "  </button>\n",
              "\n",
              "<style>\n",
              "  .colab-df-quickchart {\n",
              "      --bg-color: #E8F0FE;\n",
              "      --fill-color: #1967D2;\n",
              "      --hover-bg-color: #E2EBFA;\n",
              "      --hover-fill-color: #174EA6;\n",
              "      --disabled-fill-color: #AAA;\n",
              "      --disabled-bg-color: #DDD;\n",
              "  }\n",
              "\n",
              "  [theme=dark] .colab-df-quickchart {\n",
              "      --bg-color: #3B4455;\n",
              "      --fill-color: #D2E3FC;\n",
              "      --hover-bg-color: #434B5C;\n",
              "      --hover-fill-color: #FFFFFF;\n",
              "      --disabled-bg-color: #3B4455;\n",
              "      --disabled-fill-color: #666;\n",
              "  }\n",
              "\n",
              "  .colab-df-quickchart {\n",
              "    background-color: var(--bg-color);\n",
              "    border: none;\n",
              "    border-radius: 50%;\n",
              "    cursor: pointer;\n",
              "    display: none;\n",
              "    fill: var(--fill-color);\n",
              "    height: 32px;\n",
              "    padding: 0;\n",
              "    width: 32px;\n",
              "  }\n",
              "\n",
              "  .colab-df-quickchart:hover {\n",
              "    background-color: var(--hover-bg-color);\n",
              "    box-shadow: 0 1px 2px rgba(60, 64, 67, 0.3), 0 1px 3px 1px rgba(60, 64, 67, 0.15);\n",
              "    fill: var(--button-hover-fill-color);\n",
              "  }\n",
              "\n",
              "  .colab-df-quickchart-complete:disabled,\n",
              "  .colab-df-quickchart-complete:disabled:hover {\n",
              "    background-color: var(--disabled-bg-color);\n",
              "    fill: var(--disabled-fill-color);\n",
              "    box-shadow: none;\n",
              "  }\n",
              "\n",
              "  .colab-df-spinner {\n",
              "    border: 2px solid var(--fill-color);\n",
              "    border-color: transparent;\n",
              "    border-bottom-color: var(--fill-color);\n",
              "    animation:\n",
              "      spin 1s steps(1) infinite;\n",
              "  }\n",
              "\n",
              "  @keyframes spin {\n",
              "    0% {\n",
              "      border-color: transparent;\n",
              "      border-bottom-color: var(--fill-color);\n",
              "      border-left-color: var(--fill-color);\n",
              "    }\n",
              "    20% {\n",
              "      border-color: transparent;\n",
              "      border-left-color: var(--fill-color);\n",
              "      border-top-color: var(--fill-color);\n",
              "    }\n",
              "    30% {\n",
              "      border-color: transparent;\n",
              "      border-left-color: var(--fill-color);\n",
              "      border-top-color: var(--fill-color);\n",
              "      border-right-color: var(--fill-color);\n",
              "    }\n",
              "    40% {\n",
              "      border-color: transparent;\n",
              "      border-right-color: var(--fill-color);\n",
              "      border-top-color: var(--fill-color);\n",
              "    }\n",
              "    60% {\n",
              "      border-color: transparent;\n",
              "      border-right-color: var(--fill-color);\n",
              "    }\n",
              "    80% {\n",
              "      border-color: transparent;\n",
              "      border-right-color: var(--fill-color);\n",
              "      border-bottom-color: var(--fill-color);\n",
              "    }\n",
              "    90% {\n",
              "      border-color: transparent;\n",
              "      border-bottom-color: var(--fill-color);\n",
              "    }\n",
              "  }\n",
              "</style>\n",
              "\n",
              "  <script>\n",
              "    async function quickchart(key) {\n",
              "      const quickchartButtonEl =\n",
              "        document.querySelector('#' + key + ' button');\n",
              "      quickchartButtonEl.disabled = true;  // To prevent multiple clicks.\n",
              "      quickchartButtonEl.classList.add('colab-df-spinner');\n",
              "      try {\n",
              "        const charts = await google.colab.kernel.invokeFunction(\n",
              "            'suggestCharts', [key], {});\n",
              "      } catch (error) {\n",
              "        console.error('Error during call to suggestCharts:', error);\n",
              "      }\n",
              "      quickchartButtonEl.classList.remove('colab-df-spinner');\n",
              "      quickchartButtonEl.classList.add('colab-df-quickchart-complete');\n",
              "    }\n",
              "    (() => {\n",
              "      let quickchartButtonEl =\n",
              "        document.querySelector('#df-aaf52e94-ed15-4f1b-9fd7-a5324242e12d button');\n",
              "      quickchartButtonEl.style.display =\n",
              "        google.colab.kernel.accessAllowed ? 'block' : 'none';\n",
              "    })();\n",
              "  </script>\n",
              "</div>\n",
              "\n",
              "    </div>\n",
              "  </div>\n"
            ]
          },
          "metadata": {},
          "execution_count": 27
        }
      ]
    },
    {
      "cell_type": "code",
      "source": [
        "df_input.describe()"
      ],
      "metadata": {
        "colab": {
          "base_uri": "https://localhost:8080/",
          "height": 300
        },
        "id": "UJ9rOYgE1hj9",
        "outputId": "e5bdf9eb-96ef-4bc9-fbe7-3951e3f8950c"
      },
      "execution_count": 28,
      "outputs": [
        {
          "output_type": "execute_result",
          "data": {
            "text/plain": [
              "              Open         High          Low        Close    Adj Close\n",
              "count  2645.000000  2645.000000  2645.000000  2645.000000  2645.000000\n",
              "mean     61.723041    62.368079    61.083765    61.744100    61.744100\n",
              "std      35.298521    35.738101    34.873546    35.312279    35.312279\n",
              "min      17.634134    17.651152    17.405405    17.589338    17.589338\n",
              "25%      32.872002    33.205002    32.536499    32.849499    32.849499\n",
              "50%      53.195000    53.799000    52.596001    53.292500    53.292500\n",
              "75%      86.337997    87.341499    85.509003    86.380997    86.380997\n",
              "max     151.250000   151.546494   148.899002   149.838501   149.838501"
            ],
            "text/html": [
              "\n",
              "  <div id=\"df-539200b7-2255-47ed-9c57-4d780a1819f7\" class=\"colab-df-container\">\n",
              "    <div>\n",
              "<style scoped>\n",
              "    .dataframe tbody tr th:only-of-type {\n",
              "        vertical-align: middle;\n",
              "    }\n",
              "\n",
              "    .dataframe tbody tr th {\n",
              "        vertical-align: top;\n",
              "    }\n",
              "\n",
              "    .dataframe thead th {\n",
              "        text-align: right;\n",
              "    }\n",
              "</style>\n",
              "<table border=\"1\" class=\"dataframe\">\n",
              "  <thead>\n",
              "    <tr style=\"text-align: right;\">\n",
              "      <th></th>\n",
              "      <th>Open</th>\n",
              "      <th>High</th>\n",
              "      <th>Low</th>\n",
              "      <th>Close</th>\n",
              "      <th>Adj Close</th>\n",
              "    </tr>\n",
              "  </thead>\n",
              "  <tbody>\n",
              "    <tr>\n",
              "      <th>count</th>\n",
              "      <td>2645.000000</td>\n",
              "      <td>2645.000000</td>\n",
              "      <td>2645.000000</td>\n",
              "      <td>2645.000000</td>\n",
              "      <td>2645.000000</td>\n",
              "    </tr>\n",
              "    <tr>\n",
              "      <th>mean</th>\n",
              "      <td>61.723041</td>\n",
              "      <td>62.368079</td>\n",
              "      <td>61.083765</td>\n",
              "      <td>61.744100</td>\n",
              "      <td>61.744100</td>\n",
              "    </tr>\n",
              "    <tr>\n",
              "      <th>std</th>\n",
              "      <td>35.298521</td>\n",
              "      <td>35.738101</td>\n",
              "      <td>34.873546</td>\n",
              "      <td>35.312279</td>\n",
              "      <td>35.312279</td>\n",
              "    </tr>\n",
              "    <tr>\n",
              "      <th>min</th>\n",
              "      <td>17.634134</td>\n",
              "      <td>17.651152</td>\n",
              "      <td>17.405405</td>\n",
              "      <td>17.589338</td>\n",
              "      <td>17.589338</td>\n",
              "    </tr>\n",
              "    <tr>\n",
              "      <th>25%</th>\n",
              "      <td>32.872002</td>\n",
              "      <td>33.205002</td>\n",
              "      <td>32.536499</td>\n",
              "      <td>32.849499</td>\n",
              "      <td>32.849499</td>\n",
              "    </tr>\n",
              "    <tr>\n",
              "      <th>50%</th>\n",
              "      <td>53.195000</td>\n",
              "      <td>53.799000</td>\n",
              "      <td>52.596001</td>\n",
              "      <td>53.292500</td>\n",
              "      <td>53.292500</td>\n",
              "    </tr>\n",
              "    <tr>\n",
              "      <th>75%</th>\n",
              "      <td>86.337997</td>\n",
              "      <td>87.341499</td>\n",
              "      <td>85.509003</td>\n",
              "      <td>86.380997</td>\n",
              "      <td>86.380997</td>\n",
              "    </tr>\n",
              "    <tr>\n",
              "      <th>max</th>\n",
              "      <td>151.250000</td>\n",
              "      <td>151.546494</td>\n",
              "      <td>148.899002</td>\n",
              "      <td>149.838501</td>\n",
              "      <td>149.838501</td>\n",
              "    </tr>\n",
              "  </tbody>\n",
              "</table>\n",
              "</div>\n",
              "    <div class=\"colab-df-buttons\">\n",
              "\n",
              "  <div class=\"colab-df-container\">\n",
              "    <button class=\"colab-df-convert\" onclick=\"convertToInteractive('df-539200b7-2255-47ed-9c57-4d780a1819f7')\"\n",
              "            title=\"Convert this dataframe to an interactive table.\"\n",
              "            style=\"display:none;\">\n",
              "\n",
              "  <svg xmlns=\"http://www.w3.org/2000/svg\" height=\"24px\" viewBox=\"0 -960 960 960\">\n",
              "    <path d=\"M120-120v-720h720v720H120Zm60-500h600v-160H180v160Zm220 220h160v-160H400v160Zm0 220h160v-160H400v160ZM180-400h160v-160H180v160Zm440 0h160v-160H620v160ZM180-180h160v-160H180v160Zm440 0h160v-160H620v160Z\"/>\n",
              "  </svg>\n",
              "    </button>\n",
              "\n",
              "  <style>\n",
              "    .colab-df-container {\n",
              "      display:flex;\n",
              "      gap: 12px;\n",
              "    }\n",
              "\n",
              "    .colab-df-convert {\n",
              "      background-color: #E8F0FE;\n",
              "      border: none;\n",
              "      border-radius: 50%;\n",
              "      cursor: pointer;\n",
              "      display: none;\n",
              "      fill: #1967D2;\n",
              "      height: 32px;\n",
              "      padding: 0 0 0 0;\n",
              "      width: 32px;\n",
              "    }\n",
              "\n",
              "    .colab-df-convert:hover {\n",
              "      background-color: #E2EBFA;\n",
              "      box-shadow: 0px 1px 2px rgba(60, 64, 67, 0.3), 0px 1px 3px 1px rgba(60, 64, 67, 0.15);\n",
              "      fill: #174EA6;\n",
              "    }\n",
              "\n",
              "    .colab-df-buttons div {\n",
              "      margin-bottom: 4px;\n",
              "    }\n",
              "\n",
              "    [theme=dark] .colab-df-convert {\n",
              "      background-color: #3B4455;\n",
              "      fill: #D2E3FC;\n",
              "    }\n",
              "\n",
              "    [theme=dark] .colab-df-convert:hover {\n",
              "      background-color: #434B5C;\n",
              "      box-shadow: 0px 1px 3px 1px rgba(0, 0, 0, 0.15);\n",
              "      filter: drop-shadow(0px 1px 2px rgba(0, 0, 0, 0.3));\n",
              "      fill: #FFFFFF;\n",
              "    }\n",
              "  </style>\n",
              "\n",
              "    <script>\n",
              "      const buttonEl =\n",
              "        document.querySelector('#df-539200b7-2255-47ed-9c57-4d780a1819f7 button.colab-df-convert');\n",
              "      buttonEl.style.display =\n",
              "        google.colab.kernel.accessAllowed ? 'block' : 'none';\n",
              "\n",
              "      async function convertToInteractive(key) {\n",
              "        const element = document.querySelector('#df-539200b7-2255-47ed-9c57-4d780a1819f7');\n",
              "        const dataTable =\n",
              "          await google.colab.kernel.invokeFunction('convertToInteractive',\n",
              "                                                    [key], {});\n",
              "        if (!dataTable) return;\n",
              "\n",
              "        const docLinkHtml = 'Like what you see? Visit the ' +\n",
              "          '<a target=\"_blank\" href=https://colab.research.google.com/notebooks/data_table.ipynb>data table notebook</a>'\n",
              "          + ' to learn more about interactive tables.';\n",
              "        element.innerHTML = '';\n",
              "        dataTable['output_type'] = 'display_data';\n",
              "        await google.colab.output.renderOutput(dataTable, element);\n",
              "        const docLink = document.createElement('div');\n",
              "        docLink.innerHTML = docLinkHtml;\n",
              "        element.appendChild(docLink);\n",
              "      }\n",
              "    </script>\n",
              "  </div>\n",
              "\n",
              "\n",
              "<div id=\"df-51cbe5fb-672b-4d4b-98b4-d177f1db7e6c\">\n",
              "  <button class=\"colab-df-quickchart\" onclick=\"quickchart('df-51cbe5fb-672b-4d4b-98b4-d177f1db7e6c')\"\n",
              "            title=\"Suggest charts\"\n",
              "            style=\"display:none;\">\n",
              "\n",
              "<svg xmlns=\"http://www.w3.org/2000/svg\" height=\"24px\"viewBox=\"0 0 24 24\"\n",
              "     width=\"24px\">\n",
              "    <g>\n",
              "        <path d=\"M19 3H5c-1.1 0-2 .9-2 2v14c0 1.1.9 2 2 2h14c1.1 0 2-.9 2-2V5c0-1.1-.9-2-2-2zM9 17H7v-7h2v7zm4 0h-2V7h2v10zm4 0h-2v-4h2v4z\"/>\n",
              "    </g>\n",
              "</svg>\n",
              "  </button>\n",
              "\n",
              "<style>\n",
              "  .colab-df-quickchart {\n",
              "      --bg-color: #E8F0FE;\n",
              "      --fill-color: #1967D2;\n",
              "      --hover-bg-color: #E2EBFA;\n",
              "      --hover-fill-color: #174EA6;\n",
              "      --disabled-fill-color: #AAA;\n",
              "      --disabled-bg-color: #DDD;\n",
              "  }\n",
              "\n",
              "  [theme=dark] .colab-df-quickchart {\n",
              "      --bg-color: #3B4455;\n",
              "      --fill-color: #D2E3FC;\n",
              "      --hover-bg-color: #434B5C;\n",
              "      --hover-fill-color: #FFFFFF;\n",
              "      --disabled-bg-color: #3B4455;\n",
              "      --disabled-fill-color: #666;\n",
              "  }\n",
              "\n",
              "  .colab-df-quickchart {\n",
              "    background-color: var(--bg-color);\n",
              "    border: none;\n",
              "    border-radius: 50%;\n",
              "    cursor: pointer;\n",
              "    display: none;\n",
              "    fill: var(--fill-color);\n",
              "    height: 32px;\n",
              "    padding: 0;\n",
              "    width: 32px;\n",
              "  }\n",
              "\n",
              "  .colab-df-quickchart:hover {\n",
              "    background-color: var(--hover-bg-color);\n",
              "    box-shadow: 0 1px 2px rgba(60, 64, 67, 0.3), 0 1px 3px 1px rgba(60, 64, 67, 0.15);\n",
              "    fill: var(--button-hover-fill-color);\n",
              "  }\n",
              "\n",
              "  .colab-df-quickchart-complete:disabled,\n",
              "  .colab-df-quickchart-complete:disabled:hover {\n",
              "    background-color: var(--disabled-bg-color);\n",
              "    fill: var(--disabled-fill-color);\n",
              "    box-shadow: none;\n",
              "  }\n",
              "\n",
              "  .colab-df-spinner {\n",
              "    border: 2px solid var(--fill-color);\n",
              "    border-color: transparent;\n",
              "    border-bottom-color: var(--fill-color);\n",
              "    animation:\n",
              "      spin 1s steps(1) infinite;\n",
              "  }\n",
              "\n",
              "  @keyframes spin {\n",
              "    0% {\n",
              "      border-color: transparent;\n",
              "      border-bottom-color: var(--fill-color);\n",
              "      border-left-color: var(--fill-color);\n",
              "    }\n",
              "    20% {\n",
              "      border-color: transparent;\n",
              "      border-left-color: var(--fill-color);\n",
              "      border-top-color: var(--fill-color);\n",
              "    }\n",
              "    30% {\n",
              "      border-color: transparent;\n",
              "      border-left-color: var(--fill-color);\n",
              "      border-top-color: var(--fill-color);\n",
              "      border-right-color: var(--fill-color);\n",
              "    }\n",
              "    40% {\n",
              "      border-color: transparent;\n",
              "      border-right-color: var(--fill-color);\n",
              "      border-top-color: var(--fill-color);\n",
              "    }\n",
              "    60% {\n",
              "      border-color: transparent;\n",
              "      border-right-color: var(--fill-color);\n",
              "    }\n",
              "    80% {\n",
              "      border-color: transparent;\n",
              "      border-right-color: var(--fill-color);\n",
              "      border-bottom-color: var(--fill-color);\n",
              "    }\n",
              "    90% {\n",
              "      border-color: transparent;\n",
              "      border-bottom-color: var(--fill-color);\n",
              "    }\n",
              "  }\n",
              "</style>\n",
              "\n",
              "  <script>\n",
              "    async function quickchart(key) {\n",
              "      const quickchartButtonEl =\n",
              "        document.querySelector('#' + key + ' button');\n",
              "      quickchartButtonEl.disabled = true;  // To prevent multiple clicks.\n",
              "      quickchartButtonEl.classList.add('colab-df-spinner');\n",
              "      try {\n",
              "        const charts = await google.colab.kernel.invokeFunction(\n",
              "            'suggestCharts', [key], {});\n",
              "      } catch (error) {\n",
              "        console.error('Error during call to suggestCharts:', error);\n",
              "      }\n",
              "      quickchartButtonEl.classList.remove('colab-df-spinner');\n",
              "      quickchartButtonEl.classList.add('colab-df-quickchart-complete');\n",
              "    }\n",
              "    (() => {\n",
              "      let quickchartButtonEl =\n",
              "        document.querySelector('#df-51cbe5fb-672b-4d4b-98b4-d177f1db7e6c button');\n",
              "      quickchartButtonEl.style.display =\n",
              "        google.colab.kernel.accessAllowed ? 'block' : 'none';\n",
              "    })();\n",
              "  </script>\n",
              "</div>\n",
              "\n",
              "    </div>\n",
              "  </div>\n"
            ]
          },
          "metadata": {},
          "execution_count": 28
        }
      ]
    },
    {
      "cell_type": "markdown",
      "source": [
        "## Standardization of Data"
      ],
      "metadata": {
        "id": "rJBDhApk6NDM"
      }
    },
    {
      "cell_type": "code",
      "source": [
        "from sklearn.preprocessing import MinMaxScaler\n",
        "scaler = MinMaxScaler()"
      ],
      "metadata": {
        "id": "Y7YXWrj61yyj"
      },
      "execution_count": 29,
      "outputs": []
    },
    {
      "cell_type": "code",
      "source": [
        "data_scaled = scaler.fit_transform(df_input)"
      ],
      "metadata": {
        "id": "OtayEOke1__B"
      },
      "execution_count": 31,
      "outputs": []
    },
    {
      "cell_type": "code",
      "source": [
        "data_scaled"
      ],
      "metadata": {
        "colab": {
          "base_uri": "https://localhost:8080/"
        },
        "id": "bVWRwndB2JYQ",
        "outputId": "b1646e40-fcb3-4f52-c6ca-7593a5c9bfc0"
      },
      "execution_count": 32,
      "outputs": [
        {
          "output_type": "execute_result",
          "data": {
            "text/plain": [
              "array([[0.00276441, 0.00404825, 0.00400231, 0.00385643, 0.00385643],\n",
              "       [0.00379639, 0.00496966, 0.0047959 , 0.00393591, 0.00393591],\n",
              "       [0.00462234, 0.00675269, 0.00612049, 0.00664186, 0.00664186],\n",
              "       ...,\n",
              "       [0.76043263, 0.76581343, 0.7712512 , 0.7736205 , 0.7736205 ],\n",
              "       [0.76043263, 0.78388723, 0.77436925, 0.78760923, 0.78760923],\n",
              "       [0.76462378, 0.76663497, 0.76805714, 0.7752084 , 0.7752084 ]])"
            ]
          },
          "metadata": {},
          "execution_count": 32
        }
      ]
    },
    {
      "cell_type": "markdown",
      "source": [
        "## Data Distribution\n",
        " * Features = Data that is used for prediction\n",
        " * Traning = The Data which is to be predicted"
      ],
      "metadata": {
        "id": "0Yl4T8sd6Tec"
      }
    },
    {
      "cell_type": "code",
      "source": [
        "features = data_scaled\n",
        "target = data_scaled[:,1]"
      ],
      "metadata": {
        "id": "05pEvrme2Ytq"
      },
      "execution_count": 34,
      "outputs": []
    },
    {
      "cell_type": "code",
      "source": [
        "target"
      ],
      "metadata": {
        "colab": {
          "base_uri": "https://localhost:8080/"
        },
        "id": "B5hzElyF2dgK",
        "outputId": "ac73867d-5443-466d-8219-9c02562a5778"
      },
      "execution_count": 35,
      "outputs": [
        {
          "output_type": "execute_result",
          "data": {
            "text/plain": [
              "array([0.00404825, 0.00496966, 0.00675269, ..., 0.76581343, 0.78388723,\n",
              "       0.76663497])"
            ]
          },
          "metadata": {},
          "execution_count": 35
        }
      ]
    },
    {
      "cell_type": "markdown",
      "source": [
        "## Train - Test - Split"
      ],
      "metadata": {
        "id": "tWr8pcIx6oS6"
      }
    },
    {
      "cell_type": "code",
      "source": [
        "from sklearn.model_selection import train_test_split\n",
        "x_train , x_test , y_train, y_test = train_test_split(features,target,test_size = 0.2,shuffle  =False)   # shuffle = Flase is important because it is a time series data and order is important"
      ],
      "metadata": {
        "id": "P5FBfj862h8f"
      },
      "execution_count": 37,
      "outputs": []
    },
    {
      "cell_type": "code",
      "source": [
        "from keras.preprocessing.sequence import TimeseriesGenerator\n",
        "win_length = 14\n",
        "batch_size = 32\n",
        "num_features = 5\n",
        "train_generator = TimeseriesGenerator(x_train,y_train,length= win_length,sampling_rate = 1,batch_size = batch_size)\n",
        "test_generator = TimeseriesGenerator(x_test,y_test,length= win_length,sampling_rate = 1,batch_size = batch_size)\n"
      ],
      "metadata": {
        "id": "1xpGpd0j2qSu"
      },
      "execution_count": 38,
      "outputs": []
    },
    {
      "cell_type": "markdown",
      "source": [
        "## Defining the model\n"
      ],
      "metadata": {
        "id": "LddAyT8x6thc"
      }
    },
    {
      "cell_type": "code",
      "source": [
        "model = tf.keras.Sequential()\n",
        "model.add(tf.keras.layers.LSTM(128,input_shape = (win_length,num_features),return_sequences=True))\n",
        "model.add(tf.keras.layers.LSTM(64,return_sequences=True))\n",
        "model.add(tf.keras.layers.Dropout(0.3))\n",
        "model.add(tf.keras.layers.LSTM(32,return_sequences=True))\n",
        "model.add(tf.keras.layers.Dropout(0.3))\n",
        "model.add(tf.keras.layers.LSTM(16,return_sequences=True))\n",
        "model.add(tf.keras.layers.Dense(1))"
      ],
      "metadata": {
        "id": "-sDz2cRM28Sk"
      },
      "execution_count": 39,
      "outputs": []
    },
    {
      "cell_type": "code",
      "source": [
        "model.summary()"
      ],
      "metadata": {
        "colab": {
          "base_uri": "https://localhost:8080/"
        },
        "id": "3nlgldTm3KMn",
        "outputId": "dacdd74e-00e8-400a-cda7-7aa0190eaf62"
      },
      "execution_count": 40,
      "outputs": [
        {
          "output_type": "stream",
          "name": "stdout",
          "text": [
            "Model: \"sequential\"\n",
            "_________________________________________________________________\n",
            " Layer (type)                Output Shape              Param #   \n",
            "=================================================================\n",
            " lstm (LSTM)                 (None, 14, 128)           68608     \n",
            "                                                                 \n",
            " lstm_1 (LSTM)               (None, 14, 64)            49408     \n",
            "                                                                 \n",
            " dropout (Dropout)           (None, 14, 64)            0         \n",
            "                                                                 \n",
            " lstm_2 (LSTM)               (None, 14, 32)            12416     \n",
            "                                                                 \n",
            " dropout_1 (Dropout)         (None, 14, 32)            0         \n",
            "                                                                 \n",
            " lstm_3 (LSTM)               (None, 14, 16)            3136      \n",
            "                                                                 \n",
            " dense (Dense)               (None, 14, 1)             17        \n",
            "                                                                 \n",
            "=================================================================\n",
            "Total params: 133585 (521.82 KB)\n",
            "Trainable params: 133585 (521.82 KB)\n",
            "Non-trainable params: 0 (0.00 Byte)\n",
            "_________________________________________________________________\n"
          ]
        }
      ]
    },
    {
      "cell_type": "code",
      "source": [
        "early_stopping = tf.keras.callbacks.EarlyStopping(monitor='val_loss', patience=10, restore_best_weights=True)\n",
        "model.compile(loss = tf.losses.MeanSquaredError(),optimizer = tf.optimizers.Adam(),metrics= [tf.metrics.MeanAbsoluteError()])\n"
      ],
      "metadata": {
        "id": "siTHzXUW3Mlb"
      },
      "execution_count": 43,
      "outputs": []
    },
    {
      "cell_type": "markdown",
      "source": [
        "## Model Training"
      ],
      "metadata": {
        "id": "bJM-A4Yk6w2X"
      }
    },
    {
      "cell_type": "code",
      "source": [
        "history = model.fit_generator(train_generator,epochs = 50,validation_data = test_generator,shuffle = False,callbacks = [early_stopping])"
      ],
      "metadata": {
        "colab": {
          "base_uri": "https://localhost:8080/"
        },
        "id": "2oE8yCRG3V0B",
        "outputId": "e6ac7ef4-801f-4f9e-d803-58236246156a"
      },
      "execution_count": 44,
      "outputs": [
        {
          "output_type": "stream",
          "name": "stdout",
          "text": [
            "Epoch 1/50\n"
          ]
        },
        {
          "output_type": "stream",
          "name": "stderr",
          "text": [
            "<ipython-input-44-1ce2586a68b7>:1: UserWarning: `Model.fit_generator` is deprecated and will be removed in a future version. Please use `Model.fit`, which supports generators.\n",
            "  history = model.fit_generator(train_generator,epochs = 50,validation_data = test_generator,shuffle = False,callbacks = [early_stopping])\n"
          ]
        },
        {
          "output_type": "stream",
          "name": "stdout",
          "text": [
            "66/66 [==============================] - 9s 50ms/step - loss: 0.0094 - mean_absolute_error: 0.0671 - val_loss: 0.0488 - val_mean_absolute_error: 0.1549\n",
            "Epoch 2/50\n",
            "66/66 [==============================] - 3s 42ms/step - loss: 0.0078 - mean_absolute_error: 0.0612 - val_loss: 0.0388 - val_mean_absolute_error: 0.1439\n",
            "Epoch 3/50\n",
            "66/66 [==============================] - 2s 32ms/step - loss: 0.0060 - mean_absolute_error: 0.0604 - val_loss: 0.0251 - val_mean_absolute_error: 0.0992\n",
            "Epoch 4/50\n",
            "66/66 [==============================] - 2s 31ms/step - loss: 0.0044 - mean_absolute_error: 0.0475 - val_loss: 0.0173 - val_mean_absolute_error: 0.0820\n",
            "Epoch 5/50\n",
            "66/66 [==============================] - 3s 44ms/step - loss: 0.0022 - mean_absolute_error: 0.0307 - val_loss: 0.0114 - val_mean_absolute_error: 0.0753\n",
            "Epoch 6/50\n",
            "66/66 [==============================] - 3s 38ms/step - loss: 0.0016 - mean_absolute_error: 0.0268 - val_loss: 0.0088 - val_mean_absolute_error: 0.0763\n",
            "Epoch 7/50\n",
            "66/66 [==============================] - 2s 36ms/step - loss: 0.0015 - mean_absolute_error: 0.0277 - val_loss: 0.0067 - val_mean_absolute_error: 0.0660\n",
            "Epoch 8/50\n",
            "66/66 [==============================] - 2s 34ms/step - loss: 0.0011 - mean_absolute_error: 0.0239 - val_loss: 0.0061 - val_mean_absolute_error: 0.0637\n",
            "Epoch 9/50\n",
            "66/66 [==============================] - 2s 34ms/step - loss: 0.0010 - mean_absolute_error: 0.0231 - val_loss: 0.0072 - val_mean_absolute_error: 0.0693\n",
            "Epoch 10/50\n",
            "66/66 [==============================] - 3s 40ms/step - loss: 9.8402e-04 - mean_absolute_error: 0.0228 - val_loss: 0.0080 - val_mean_absolute_error: 0.0733\n",
            "Epoch 11/50\n",
            "66/66 [==============================] - 2s 34ms/step - loss: 0.0010 - mean_absolute_error: 0.0231 - val_loss: 0.0067 - val_mean_absolute_error: 0.0654\n",
            "Epoch 12/50\n",
            "66/66 [==============================] - 4s 60ms/step - loss: 8.6972e-04 - mean_absolute_error: 0.0211 - val_loss: 0.0064 - val_mean_absolute_error: 0.0648\n",
            "Epoch 13/50\n",
            "66/66 [==============================] - 2s 36ms/step - loss: 7.7336e-04 - mean_absolute_error: 0.0196 - val_loss: 0.0090 - val_mean_absolute_error: 0.0790\n",
            "Epoch 14/50\n",
            "66/66 [==============================] - 2s 33ms/step - loss: 0.0011 - mean_absolute_error: 0.0244 - val_loss: 0.0084 - val_mean_absolute_error: 0.0737\n",
            "Epoch 15/50\n",
            "66/66 [==============================] - 2s 34ms/step - loss: 7.0311e-04 - mean_absolute_error: 0.0184 - val_loss: 0.0074 - val_mean_absolute_error: 0.0712\n",
            "Epoch 16/50\n",
            "66/66 [==============================] - 2s 32ms/step - loss: 0.0011 - mean_absolute_error: 0.0253 - val_loss: 0.0071 - val_mean_absolute_error: 0.0667\n",
            "Epoch 17/50\n",
            "66/66 [==============================] - 3s 43ms/step - loss: 6.5106e-04 - mean_absolute_error: 0.0179 - val_loss: 0.0093 - val_mean_absolute_error: 0.0794\n",
            "Epoch 18/50\n",
            "66/66 [==============================] - 2s 34ms/step - loss: 0.0014 - mean_absolute_error: 0.0285 - val_loss: 0.0056 - val_mean_absolute_error: 0.0593\n",
            "Epoch 19/50\n",
            "66/66 [==============================] - 2s 34ms/step - loss: 6.6157e-04 - mean_absolute_error: 0.0183 - val_loss: 0.0091 - val_mean_absolute_error: 0.0797\n",
            "Epoch 20/50\n",
            "66/66 [==============================] - 2s 34ms/step - loss: 0.0019 - mean_absolute_error: 0.0346 - val_loss: 0.0048 - val_mean_absolute_error: 0.0553\n",
            "Epoch 21/50\n",
            "66/66 [==============================] - 3s 40ms/step - loss: 6.5165e-04 - mean_absolute_error: 0.0184 - val_loss: 0.0077 - val_mean_absolute_error: 0.0724\n",
            "Epoch 22/50\n",
            "66/66 [==============================] - 2s 32ms/step - loss: 0.0016 - mean_absolute_error: 0.0316 - val_loss: 0.0054 - val_mean_absolute_error: 0.0594\n",
            "Epoch 23/50\n",
            "66/66 [==============================] - 2s 32ms/step - loss: 6.7420e-04 - mean_absolute_error: 0.0184 - val_loss: 0.0084 - val_mean_absolute_error: 0.0749\n",
            "Epoch 24/50\n",
            "66/66 [==============================] - 2s 38ms/step - loss: 0.0011 - mean_absolute_error: 0.0251 - val_loss: 0.0052 - val_mean_absolute_error: 0.0573\n",
            "Epoch 25/50\n",
            "66/66 [==============================] - 2s 37ms/step - loss: 6.8895e-04 - mean_absolute_error: 0.0192 - val_loss: 0.0092 - val_mean_absolute_error: 0.0792\n",
            "Epoch 26/50\n",
            "66/66 [==============================] - 2s 32ms/step - loss: 0.0018 - mean_absolute_error: 0.0338 - val_loss: 0.0047 - val_mean_absolute_error: 0.0546\n",
            "Epoch 27/50\n",
            "66/66 [==============================] - 3s 40ms/step - loss: 7.0129e-04 - mean_absolute_error: 0.0195 - val_loss: 0.0091 - val_mean_absolute_error: 0.0788\n",
            "Epoch 28/50\n",
            "66/66 [==============================] - 3s 42ms/step - loss: 0.0018 - mean_absolute_error: 0.0337 - val_loss: 0.0053 - val_mean_absolute_error: 0.0591\n",
            "Epoch 29/50\n",
            "66/66 [==============================] - 2s 32ms/step - loss: 7.1465e-04 - mean_absolute_error: 0.0192 - val_loss: 0.0081 - val_mean_absolute_error: 0.0731\n",
            "Epoch 30/50\n",
            "66/66 [==============================] - 2s 32ms/step - loss: 0.0012 - mean_absolute_error: 0.0258 - val_loss: 0.0046 - val_mean_absolute_error: 0.0542\n",
            "Epoch 31/50\n",
            "66/66 [==============================] - 3s 39ms/step - loss: 6.9890e-04 - mean_absolute_error: 0.0192 - val_loss: 0.0081 - val_mean_absolute_error: 0.0739\n",
            "Epoch 32/50\n",
            "66/66 [==============================] - 2s 33ms/step - loss: 0.0015 - mean_absolute_error: 0.0299 - val_loss: 0.0055 - val_mean_absolute_error: 0.0603\n",
            "Epoch 33/50\n",
            "66/66 [==============================] - 2s 34ms/step - loss: 7.4561e-04 - mean_absolute_error: 0.0201 - val_loss: 0.0080 - val_mean_absolute_error: 0.0730\n",
            "Epoch 34/50\n",
            "66/66 [==============================] - 2s 32ms/step - loss: 0.0012 - mean_absolute_error: 0.0266 - val_loss: 0.0045 - val_mean_absolute_error: 0.0536\n",
            "Epoch 35/50\n",
            "66/66 [==============================] - 2s 33ms/step - loss: 6.7419e-04 - mean_absolute_error: 0.0188 - val_loss: 0.0071 - val_mean_absolute_error: 0.0680\n",
            "Epoch 36/50\n",
            "66/66 [==============================] - 3s 40ms/step - loss: 0.0012 - mean_absolute_error: 0.0268 - val_loss: 0.0057 - val_mean_absolute_error: 0.0603\n",
            "Epoch 37/50\n",
            "66/66 [==============================] - 2s 32ms/step - loss: 7.3427e-04 - mean_absolute_error: 0.0195 - val_loss: 0.0064 - val_mean_absolute_error: 0.0634\n",
            "Epoch 38/50\n",
            "66/66 [==============================] - 2s 31ms/step - loss: 9.3574e-04 - mean_absolute_error: 0.0228 - val_loss: 0.0051 - val_mean_absolute_error: 0.0558\n",
            "Epoch 39/50\n",
            "66/66 [==============================] - 2s 33ms/step - loss: 6.3884e-04 - mean_absolute_error: 0.0174 - val_loss: 0.0058 - val_mean_absolute_error: 0.0600\n",
            "Epoch 40/50\n",
            "66/66 [==============================] - 3s 41ms/step - loss: 8.3360e-04 - mean_absolute_error: 0.0213 - val_loss: 0.0061 - val_mean_absolute_error: 0.0623\n",
            "Epoch 41/50\n",
            "66/66 [==============================] - 2s 32ms/step - loss: 6.7539e-04 - mean_absolute_error: 0.0182 - val_loss: 0.0061 - val_mean_absolute_error: 0.0626\n",
            "Epoch 42/50\n",
            "66/66 [==============================] - 2s 35ms/step - loss: 7.9696e-04 - mean_absolute_error: 0.0203 - val_loss: 0.0055 - val_mean_absolute_error: 0.0586\n",
            "Epoch 43/50\n",
            "66/66 [==============================] - 2s 33ms/step - loss: 6.4574e-04 - mean_absolute_error: 0.0176 - val_loss: 0.0067 - val_mean_absolute_error: 0.0659\n",
            "Epoch 44/50\n",
            "66/66 [==============================] - 2s 36ms/step - loss: 8.8823e-04 - mean_absolute_error: 0.0220 - val_loss: 0.0058 - val_mean_absolute_error: 0.0610\n"
          ]
        }
      ]
    },
    {
      "cell_type": "markdown",
      "source": [
        "## Vizualisation of the loss and errors"
      ],
      "metadata": {
        "id": "kag-bBB76zuK"
      }
    },
    {
      "cell_type": "code",
      "source": [
        "plt.plot(history.history['loss'],color = 'r',label = \"Loss\")\n",
        "plt.plot(history.history['val_loss'],color = 'b',label = \"Validation Loss\")\n",
        "plt.legend()\n",
        "plt.show()"
      ],
      "metadata": {
        "colab": {
          "base_uri": "https://localhost:8080/",
          "height": 430
        },
        "id": "YaQEgEJX3XRB",
        "outputId": "ae10caf7-c2ca-4360-f62c-0e2fc4afd65d"
      },
      "execution_count": 49,
      "outputs": [
        {
          "output_type": "display_data",
          "data": {
            "text/plain": [
              "<Figure size 640x480 with 1 Axes>"
            ],
            "image/png": "[encoded data removed]"
          },
          "metadata": {}
        }
      ]
    },
    {
      "cell_type": "code",
      "source": [
        "plt.plot(history.history['mean_absolute_error'],color = 'r',label = \"MAE\")\n",
        "plt.plot(history.history['val_mean_absolute_error'],color = 'b',label = \"Validation_MAE\")\n",
        "plt.legend()\n",
        "plt.show()"
      ],
      "metadata": {
        "colab": {
          "base_uri": "https://localhost:8080/",
          "height": 431
        },
        "id": "fuSTWdQz41Ma",
        "outputId": "bf562c7b-45ab-4195-8c7d-191081e74e70"
      },
      "execution_count": 50,
      "outputs": [
        {
          "output_type": "display_data",
          "data": {
            "text/plain": [
              "<Figure size 640x480 with 1 Axes>"
            ],
            "image/png": "[encoded data removed]"
          },
          "metadata": {}
        }
      ]
    },
    {
      "cell_type": "code",
      "source": [],
      "metadata": {
        "id": "n6oLdZzj5Y_x"
      },
      "execution_count": null,
      "outputs": []
    }
  ]
}